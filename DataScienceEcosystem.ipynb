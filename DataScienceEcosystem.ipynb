{
  "metadata": {
    "language_info": {
      "codemirror_mode": {
        "name": "python",
        "version": 3
      },
      "file_extension": ".py",
      "mimetype": "text/x-python",
      "name": "python",
      "nbconvert_exporter": "python",
      "pygments_lexer": "ipython3",
      "version": "3.8"
    },
    "kernelspec": {
      "name": "python",
      "display_name": "Python (Pyodide)",
      "language": "python"
    }
  },
  "nbformat_minor": 4,
  "nbformat": 4,
  "cells": [
    {
      "cell_type": "markdown",
      "source": "Data Science Tools and Ecosystet\n",
      "metadata": {}
    },
    {
      "cell_type": "markdown",
      "source": "In this notebook, Data Science Tools and Ecosystem are summarized.",
      "metadata": {}
    },
    {
      "cell_type": "markdown",
      "source": "List Data Science Languages :\n1. Python\n2. R\n3. SQL\n4. Julia\n5. Scala\n6. Java\n7. MATLAB",
      "metadata": {}
    },
    {
      "cell_type": "markdown",
      "source": "Data Science Libraries for Python :\n\n1. Numpy\n2. Pandas\n3. Metplotlib\n4. Scikit-learn\n5. Tensorflow\n6. PyTorch\n7. Seaborn",
      "metadata": {}
    },
    {
      "cell_type": "markdown",
      "source": "|Tool Name |Prupose |Language | Type |\n|----------|--------|---------|------|\n|Python    |General-purpose programming language|Python|Language\n|R|Statistical computing and graphics|R|language\n|Jupyter Notebook|Interactive computing environment|Jupyter Notebook|Language\n|Python    |General-purpose programming language|Python|Language\n|R|Statistical computing and graphics|R|language\n|Jupyter Notebook|Interactive computing environment|Jupyter Notebook|Language",
      "metadata": {}
    },
    {
      "cell_type": "markdown",
      "source": "examples of arithmetic expressions in Python:\n\n1. Addition\n2. Substraction\n3. Multiplication\n4. Division\n5. Floor Division\n6. Modulo\n7. Exponentiation",
      "metadata": {}
    },
    {
      "cell_type": "code",
      "source": "x = 5\n\ny = 3\n\nresult = x + y\n\nprint(result)",
      "metadata": {
        "trusted": true
      },
      "execution_count": 3,
      "outputs": [
        {
          "name": "stdout",
          "text": "8\n",
          "output_type": "stream"
        }
      ]
    },
    {
      "cell_type": "code",
      "source": "a = 10\n\nb = 4\n\nresult = a - b\n\nprint(result)",
      "metadata": {
        "trusted": true
      },
      "execution_count": 4,
      "outputs": [
        {
          "name": "stdout",
          "text": "6\n",
          "output_type": "stream"
        }
      ]
    },
    {
      "cell_type": "code",
      "source": "num1 = 7\n\nnum2 = 9\n\nresult = num1 * num2\n\nprint(result)",
      "metadata": {
        "trusted": true
      },
      "execution_count": 5,
      "outputs": [
        {
          "name": "stdout",
          "text": "63\n",
          "output_type": "stream"
        }
      ]
    },
    {
      "cell_type": "code",
      "source": "numerator = 15\n\ndenominator = 3\n\nresult = numerator / denominator\n\nprint(result)",
      "metadata": {
        "trusted": true
      },
      "execution_count": 6,
      "outputs": [
        {
          "name": "stdout",
          "text": "5.0\n",
          "output_type": "stream"
        }
      ]
    },
    {
      "cell_type": "code",
      "source": "x = 10\n\ny = 3\n\nresult = x // y\n\nprint(result)",
      "metadata": {
        "trusted": true
      },
      "execution_count": 7,
      "outputs": [
        {
          "name": "stdout",
          "text": "3\n",
          "output_type": "stream"
        }
      ]
    },
    {
      "cell_type": "code",
      "source": "a = 17\n\nb = 5\n\nresult = a % b\n\nprint(result)",
      "metadata": {
        "trusted": true
      },
      "execution_count": 8,
      "outputs": [
        {
          "name": "stdout",
          "text": "2\n",
          "output_type": "stream"
        }
      ]
    },
    {
      "cell_type": "code",
      "source": "# Multiplication of two number\nx = 20\ny = 30\nmultiply = x *y\nprint(\"Multiply_Data =\", multiply)",
      "metadata": {
        "trusted": true
      },
      "execution_count": 9,
      "outputs": [
        {
          "name": "stdout",
          "text": "Multiply_Data = 600\n",
          "output_type": "stream"
        }
      ]
    },
    {
      "cell_type": "code",
      "source": "## Addition of number\naddition = x + y\nprint(\"Add_Data = \", addition)",
      "metadata": {
        "trusted": true
      },
      "execution_count": 10,
      "outputs": [
        {
          "name": "stdout",
          "text": "Add_Data =  50\n",
          "output_type": "stream"
        }
      ]
    },
    {
      "cell_type": "code",
      "source": "minutes = 80\nhours = minutes / 60\nprint(minutes,\"minutes in hours: {:.2f} Hours\".format(hours))",
      "metadata": {
        "trusted": true
      },
      "execution_count": 11,
      "outputs": [
        {
          "name": "stdout",
          "text": "80 minutes in hours: 1.33 Hours\n",
          "output_type": "stream"
        }
      ]
    },
    {
      "cell_type": "markdown",
      "source": "The objectives of using lists in Python are:\n\nCollection of Items: Lists provide a way to store multiple items of different data types in a single variable. You can have elements like integers, floats, strings, or even other lists within a single list.\n\n1. Ordered Elements: Lists maintain the order of the elements as they are added. Each element has a specific position or index in the list, allowing for easy access based on its position.\n\n2. Mutability: Lists are mutable, meaning you can modify them after creation. You can add new elements, remove existing ones, or change the values of elements within the list.\n\n3. Dynamic Size: Lists can grow or shrink as needed. You can add elements to the list as your program runs, making it flexible and adaptable to changing requirements.\n\n4. Iteration and Access: Lists support iteration using loops, making it easy to process each item in the list one by one. You can access elements in a list by their index or use slicing to extract a portion of the list.\n\n5. Versatility: Lists can hold elements of different data types. You can mix integers, strings, booleans, and other data types within a single list, making them versatile for organizing heterogeneous data.\n\n6. Concatenation and Repetition: Lists can be combined (concatenated) using the + operator, allowing you to join two or more lists together. They can also be repeated using the * operator, duplicating the elements.\n\n7. Data Organization: Lists are suitable for organizing data into collections, such as representing a list of students, inventory items, or points in a coordinate system.",
      "metadata": {}
    },
    {
      "cell_type": "code",
      "source": "",
      "metadata": {},
      "execution_count": null,
      "outputs": []
    }
  ]
}